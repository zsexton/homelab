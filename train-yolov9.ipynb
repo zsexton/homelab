{
  "cells": [
    {
      "cell_type": "markdown",
      "metadata": {
        "id": "view-in-github",
        "colab_type": "text"
      },
      "source": [
        "<a href=\"https://colab.research.google.com/github/zsexton/homelab/blob/main/train-yolov9.ipynb\" target=\"_parent\"><img src=\"https://colab.research.google.com/assets/colab-badge.svg\" alt=\"Open In Colab\"/></a>"
      ]
    },
    {
      "cell_type": "markdown",
      "metadata": {
        "id": "DQjdUKvQigN2"
      },
      "source": [
        "# How to Train YOLOv9 on a Custom Dataset\n",
        "---\n",
        "\n",
        "[![GitHub](https://badges.aleen42.com/src/github.svg)](https://github.com/WongKinYiu/yolov9)\n",
        "[![arXiv](https://img.shields.io/badge/arXiv-2402.13616-b31b1b.svg)](https://arxiv.org/pdf/2402.13616.pdf)"
      ]
    },
    {
      "cell_type": "markdown",
      "metadata": {
        "id": "m09A8n4djDwY"
      },
      "source": [
        "## Before you start / Setup\n",
        "\n",
        "Let's make sure that we have access to GPU. We can use `nvidia-smi` command to do that. In case of any problems navigate to `Edit` -> `Notebook settings` -> `Hardware accelerator`, set it to `GPU`, and then click `Save`."
      ]
    },
    {
      "cell_type": "code",
      "execution_count": 1,
      "metadata": {
        "colab": {
          "base_uri": "https://localhost:8080/"
        },
        "id": "_5hX88yficL7",
        "outputId": "011a7f17-6044-4b09-fc76-e03b83f61d2d"
      },
      "outputs": [
        {
          "output_type": "stream",
          "name": "stdout",
          "text": [
            "Thu Mar 13 19:40:05 2025       \n",
            "+-----------------------------------------------------------------------------------------+\n",
            "| NVIDIA-SMI 550.54.15              Driver Version: 550.54.15      CUDA Version: 12.4     |\n",
            "|-----------------------------------------+------------------------+----------------------+\n",
            "| GPU  Name                 Persistence-M | Bus-Id          Disp.A | Volatile Uncorr. ECC |\n",
            "| Fan  Temp   Perf          Pwr:Usage/Cap |           Memory-Usage | GPU-Util  Compute M. |\n",
            "|                                         |                        |               MIG M. |\n",
            "|=========================================+========================+======================|\n",
            "|   0  Tesla T4                       Off |   00000000:00:04.0 Off |                    0 |\n",
            "| N/A   53C    P8             11W /   70W |       0MiB /  15360MiB |      0%      Default |\n",
            "|                                         |                        |                  N/A |\n",
            "+-----------------------------------------+------------------------+----------------------+\n",
            "                                                                                         \n",
            "+-----------------------------------------------------------------------------------------+\n",
            "| Processes:                                                                              |\n",
            "|  GPU   GI   CI        PID   Type   Process name                              GPU Memory |\n",
            "|        ID   ID                                                               Usage      |\n",
            "|=========================================================================================|\n",
            "|  No running processes found                                                             |\n",
            "+-----------------------------------------------------------------------------------------+\n"
          ]
        }
      ],
      "source": [
        "!nvidia-smi"
      ]
    },
    {
      "cell_type": "markdown",
      "metadata": {
        "id": "UTprsNjHja4l"
      },
      "source": [
        "**NOTE:** To make it easier for us to manage datasets, images and models we create a `HOME` constant."
      ]
    },
    {
      "cell_type": "code",
      "execution_count": 2,
      "metadata": {
        "colab": {
          "base_uri": "https://localhost:8080/"
        },
        "id": "rowKDIT-jJ9k",
        "outputId": "439eb531-24a9-410b-e833-289f71f8c9d4"
      },
      "outputs": [
        {
          "output_type": "stream",
          "name": "stdout",
          "text": [
            "/content\n",
            "/content/yolov9\n"
          ]
        }
      ],
      "source": [
        "import os, glob\n",
        "from IPython.display import Image\n",
        "from google.colab import drive, userdata\n",
        "\n",
        "\n",
        "HOME = os.getcwd()\n",
        "YOLO = os.path.join(HOME, 'yolov9')\n",
        "print(HOME)\n",
        "print(YOLO)"
      ]
    },
    {
      "cell_type": "markdown",
      "metadata": {
        "id": "i_ysh-22X8_r"
      },
      "source": [
        "Connect the Notebook with your Google Drive to store the results"
      ]
    },
    {
      "cell_type": "code",
      "execution_count": null,
      "metadata": {
        "id": "ytdzhNePYHBR"
      },
      "outputs": [],
      "source": [
        "# Mount Google Drive\n",
        "drive.mount('/content/drive')"
      ]
    },
    {
      "cell_type": "markdown",
      "metadata": {
        "id": "9iHxta64ZGAR"
      },
      "source": [
        "Number the trainign runs consecutively"
      ]
    },
    {
      "cell_type": "code",
      "execution_count": null,
      "metadata": {
        "id": "VoiehkvRZOHy"
      },
      "outputs": [],
      "source": [
        "Lauf_num = 'Lauf_7'"
      ]
    },
    {
      "cell_type": "markdown",
      "metadata": {
        "id": "qWRGGT7Zjjbq"
      },
      "source": [
        "## Clone and Install"
      ]
    },
    {
      "cell_type": "markdown",
      "metadata": {
        "id": "9WyY-fboBLZB"
      },
      "source": [
        "**NOTE**: These are the github commands for cloning, adding, commiting and pushing"
      ]
    },
    {
      "cell_type": "code",
      "execution_count": null,
      "metadata": {
        "id": "JV0mHLYHeNIl"
      },
      "outputs": [],
      "source": [
        "github_token = userdata.get('github_token')\n",
        "\n",
        "# clone GitHub Repo\n",
        "!git clone https://{github_token}@github.com/KoniHD/yolov9.git\n",
        "!pip install -r {YOLO}/requirements.txt -q"
      ]
    },
    {
      "cell_type": "markdown",
      "metadata": {
        "id": "X8oLIkX2l2P0"
      },
      "source": [
        "## Download necessary data"
      ]
    },
    {
      "cell_type": "markdown",
      "metadata": {
        "id": "cRKa9kLGzgEu"
      },
      "source": [
        "### Download weights"
      ]
    },
    {
      "cell_type": "markdown",
      "metadata": {
        "id": "0FieRuZnB4wH"
      },
      "source": [
        "**NOTE:** There are multiple more versions of pretrained weights provided by the authors of the paper. You will have to look into their differences! [repository](https://github.com/WongKinYiu/yolov9)."
      ]
    },
    {
      "cell_type": "code",
      "execution_count": null,
      "metadata": {
        "id": "h7j3aUE7l1Je"
      },
      "outputs": [],
      "source": [
        "!wget -P {HOME}/weights -q https://github.com/WongKinYiu/yolov9/releases/download/v0.1/yolov9-c.pt\n",
        "!wget -P {HOME}/weights -q https://github.com/WongKinYiu/yolov9/releases/download/v0.1/yolov9-e.pt\n",
        "!wget -P {HOME}/weights -q https://github.com/WongKinYiu/yolov9/releases/download/v0.1/yolov9-m.pt\n",
        "!wget -P {HOME}/weights -q https://github.com/WongKinYiu/yolov9/releases/download/v0.1/yolov9-s.pt\n",
        "!wget -P {HOME}/weights -q https://github.com/WongKinYiu/yolov9/releases/download/v0.1/gelan-c.pt\n",
        "!wget -P {HOME}/weights -q https://github.com/WongKinYiu/yolov9/releases/download/v0.1/gelan-e.pt\n",
        "!wget -P {HOME}/weights -q https://github.com/WongKinYiu/yolov9/releases/download/v0.1/gelan-m.pt\n",
        "!wget -P {HOME}/weights -q https://github.com/WongKinYiu/yolov9/releases/download/v0.1/gelan-s2.pt"
      ]
    },
    {
      "cell_type": "code",
      "execution_count": null,
      "metadata": {
        "id": "Au6np1JS8eRB"
      },
      "outputs": [],
      "source": [
        "!ls -la {HOME}/weights"
      ]
    },
    {
      "cell_type": "markdown",
      "metadata": {
        "id": "Dg29vEyLkTDA"
      },
      "source": [
        "### Download LOCO dataset"
      ]
    },
    {
      "cell_type": "markdown",
      "metadata": {
        "id": "xIKNGnN2kcTp"
      },
      "source": [
        "**NOTE:** This might need to be adjusted to deal with COCO style anotations"
      ]
    },
    {
      "cell_type": "code",
      "execution_count": null,
      "metadata": {
        "id": "uUiPMLxmj4Ze"
      },
      "outputs": [],
      "source": [
        "%cd {YOLO}\n",
        "!{YOLO}/scripts/get_loco.sh # This script downloads the dataset in the active directory\n",
        "%cd {HOME}\n",
        "!python {YOLO}/scripts/transform_annotations.py --d {YOLO}/loco --convert-images --convert-to-yolo"
      ]
    },
    {
      "cell_type": "markdown",
      "metadata": {
        "id": "MjV1PpgVM4p5"
      },
      "source": [
        "## Train custom model on LOCO dataset"
      ]
    },
    {
      "cell_type": "markdown",
      "metadata": {
        "id": "24dueBLsQFcQ"
      },
      "source": [
        "**Note:** `train.py` is only for gelan models `train_dual.py` is only for yolov9 models"
      ]
    },
    {
      "cell_type": "code",
      "execution_count": null,
      "metadata": {
        "id": "zobfBKwIM4BO"
      },
      "outputs": [],
      "source": [
        "!python {YOLO}/train_dual.py --batch 8 --epochs 50 --device 0 --min-items 0 --img 640 \\\n",
        "--data {YOLO}/loco.yaml \\\n",
        "--weights {HOME}/weights/yolov9-e.pt \\\n",
        "--cfg {YOLO}/models/detect/yolov9_custom.yaml \\\n",
        "--hyp hyp.scratch-high.yaml"
      ]
    },
    {
      "cell_type": "markdown",
      "metadata": {
        "id": "4dlfABN6m-LL"
      },
      "source": [
        "## Detection with self-trained detection model"
      ]
    },
    {
      "cell_type": "markdown",
      "metadata": {
        "id": "4-FI2ZhfR4K9"
      },
      "source": [
        "**Note:** There is no test set. Image `509189,8734.jpg` is just one example from the training dataset. It includes a lot of pallets and a pallet truck which should be detected."
      ]
    },
    {
      "cell_type": "code",
      "execution_count": null,
      "metadata": {
        "id": "9zKinfupQ-vE"
      },
      "outputs": [],
      "source": [
        "!python {YOLO}/detect_dual.py --weights {YOLO}/runs/train/exp/weights/best.pt --conf 0.1 --source {YOLO}/loco/images/val/509189,8734.jpg --device 0"
      ]
    },
    {
      "cell_type": "code",
      "execution_count": null,
      "metadata": {
        "id": "Y07XoATRoLS-"
      },
      "outputs": [],
      "source": [
        "Image(filename=f\"{YOLO}/loco/images/val/509189,8734.jpg\", width=640)    # or maybe width=640???"
      ]
    },
    {
      "cell_type": "code",
      "execution_count": null,
      "metadata": {
        "id": "kMRJq87sSX4m"
      },
      "outputs": [],
      "source": [
        "Image(filename=f\"{YOLO}/runs/detect/exp/509189,8734.jpg\", width=640)    # or maybe width=640???"
      ]
    },
    {
      "cell_type": "markdown",
      "metadata": {
        "id": "ntpMIkSDz5iI"
      },
      "source": [
        "## Saving the obtained weights to Drive"
      ]
    },
    {
      "cell_type": "code",
      "execution_count": null,
      "metadata": {
        "id": "WfNAcZdrylLw"
      },
      "outputs": [],
      "source": [
        "!cp -r {YOLO}/runs/ {HOME}/drive/MyDrive/Studium/'Bachelor Arbeit'/runs/{Lauf_num}"
      ]
    },
    {
      "cell_type": "markdown",
      "metadata": {
        "id": "fpCwjSUg2Mrw"
      },
      "source": [
        "## Examine Training Results"
      ]
    },
    {
      "cell_type": "markdown",
      "metadata": {
        "id": "rHsMq7wc3bve"
      },
      "source": [
        "**NOTE:** By default, the results of each subsequent training sessions are saved in `{HOME}/yolov9/runs/train/`, in directories named `exp`, `exp2`, `exp3`, ... You can override this behavior by using the `--name` parameter."
      ]
    },
    {
      "cell_type": "code",
      "execution_count": null,
      "metadata": {
        "id": "WslwgMAW2Euc"
      },
      "outputs": [],
      "source": [
        "!ls {HOME}/yolov9/runs/train/exp/"
      ]
    },
    {
      "cell_type": "code",
      "execution_count": null,
      "metadata": {
        "id": "grirpuCstpZE"
      },
      "outputs": [],
      "source": [
        "Image(filename=f\"{HOME}/yolov9/runs/train/exp2/results.png\", width=1000)"
      ]
    },
    {
      "cell_type": "code",
      "execution_count": null,
      "metadata": {
        "id": "qggEg7Hv1zJ6"
      },
      "outputs": [],
      "source": [
        "Image(filename=f\"{HOME}/yolov9/runs/train/exp2/confusion_matrix.png\", width=1000)"
      ]
    },
    {
      "cell_type": "code",
      "execution_count": null,
      "metadata": {
        "id": "Xja2fjTl32Ml"
      },
      "outputs": [],
      "source": [
        "Image(filename=f\"{HOME}/yolov9/runs/train/exp2/val_batch0_pred.jpg\", width=1000)"
      ]
    },
    {
      "cell_type": "markdown",
      "metadata": {
        "id": "ih1rk9O_4CYG"
      },
      "source": [
        "## Validate Custom Model"
      ]
    },
    {
      "cell_type": "markdown",
      "metadata": {
        "id": "k5coqymF0j8v"
      },
      "source": [
        "**NOTE**: Look into this! Why do you need validation?"
      ]
    },
    {
      "cell_type": "code",
      "execution_count": null,
      "metadata": {
        "id": "XoZv8kNE4NxS"
      },
      "outputs": [],
      "source": [
        "%cd {HOME}/yolov9\n",
        "\n",
        "!python val_dual.py \\\n",
        "--img 640 --batch 8 --conf 0.001 --iou 0.7 --device 0 \\\n",
        "--data {YOLO}/loco.yaml \\\n",
        "--weights {YOLO}/runs/train/exp2/weights/best.pt"
      ]
    },
    {
      "cell_type": "markdown",
      "metadata": {
        "id": "EMTTVZU48DdJ"
      },
      "source": [
        "## BONUS: Deploy YOLOv9 Model with Inference"
      ]
    },
    {
      "cell_type": "markdown",
      "metadata": {
        "id": "QoDQAk5arRfm"
      },
      "source": [
        "**NOTE:** To deploy the model and display inference results, we will need two additional packages - [`inference`](https://pypi.org/project/inference) and [`supervision`](https://pypi.org/project/supervision). Let's install and import them!"
      ]
    },
    {
      "cell_type": "code",
      "execution_count": null,
      "metadata": {
        "id": "Aes2oRxi9Kpv"
      },
      "outputs": [],
      "source": [
        "image_paths = sv.list_files_with_extensions(\n",
        "    directory=f\"{dataset.location}/test/images\",\n",
        "    extensions=['png', 'jpg', 'jpeg']\n",
        ")\n",
        "image_path = random.choice(image_paths)\n",
        "image = cv2.imread(image_path)\n",
        "\n",
        "result = model.infer(image, confidence=0.1)[0]\n",
        "detections = sv.Detections.from_inference(result)"
      ]
    },
    {
      "cell_type": "markdown",
      "metadata": {
        "id": "j8Xdr3Vp1uir"
      },
      "source": [
        "**NOTE:** Finally, let's use supervision and [annotate](https://supervision.roboflow.com/develop/annotators/) our results."
      ]
    }
  ],
  "metadata": {
    "colab": {
      "provenance": [],
      "gpuType": "T4",
      "include_colab_link": true
    },
    "kernelspec": {
      "display_name": "Python 3",
      "name": "python3"
    },
    "language_info": {
      "name": "python"
    },
    "accelerator": "GPU"
  },
  "nbformat": 4,
  "nbformat_minor": 0
}